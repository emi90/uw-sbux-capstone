{
 "cells": [
  {
   "cell_type": "code",
   "execution_count": 1,
   "id": "2d994df8",
   "metadata": {},
   "outputs": [],
   "source": [
    "# load libraries\n",
    "\n",
    "import pyarrow.parquet as pq\n",
    "import os\n",
    "\n",
    "import pandas as pd\n",
    "import numpy as np\n",
    "\n",
    "import re\n",
    "\n",
    "import matplotlib.pyplot as plt\n",
    "%matplotlib inline\n",
    "\n",
    "from functions import utils, preprocessing, headlines\n",
    "from mab import mab_filter"
   ]
  },
  {
   "cell_type": "markdown",
   "id": "45779eb0",
   "metadata": {},
   "source": [
    "## Load data"
   ]
  },
  {
   "cell_type": "code",
   "execution_count": 2,
   "id": "59b9576e",
   "metadata": {},
   "outputs": [],
   "source": [
    "dirpath = '.\\data' # this will be used eventually-- need to un-pgp the files first (can't remember how!!!)\n",
    "\n",
    "dirpath = './data/sample_202111111'\n",
    "\n",
    "dirpath + '/product.parquet/'\n",
    "product_df = utils.get_pq_df(dirpath + '/product.parquet/')\n",
    "store_df = utils.get_pq_df(dirpath + '/store.parquet/')\n",
    "ar_df = utils.get_pq_df(dirpath + '/action_reward.parquet/')\n",
    "weather_df = utils.get_pq_df(dirpath + '/weather.parquet/')"
   ]
  },
  {
   "cell_type": "code",
   "execution_count": 23,
   "id": "55b6493e",
   "metadata": {},
   "outputs": [],
   "source": [
    "#preprocessing- product df\n",
    "# get form codes from product names\n",
    "# get notional flavor from product names\n",
    "ice_keywords = ['refreshers', 'frappuccino', 'blended', 'cold', 'iced', 'bottled']\n",
    "product_df2 = preprocessing.get_form_codes(product_df, ice_keywords)\n",
    "prodcut_df2= preprocessing.get_notional_flavor(product_df2)\n",
    "\n",
    "# preprocessing- store df\n",
    "# get city state from zip codes\n",
    "store_df2 = preprocessing.get_zipcodes_from_csv(store_df)"
   ]
  },
  {
   "cell_type": "markdown",
   "id": "96de8cff",
   "metadata": {},
   "source": [
    "## Given data"
   ]
  },
  {
   "cell_type": "code",
   "execution_count": 24,
   "id": "f01627ae",
   "metadata": {},
   "outputs": [],
   "source": [
    "# example- the 4 recomended products are given\n",
    "\n",
    "products_given = ['chai-tea', 'toasted-white-hot-chocolate', 'clover-x-costa-rica-naranjo-hot']"
   ]
  },
  {
   "cell_type": "code",
   "execution_count": 25,
   "id": "768c8856",
   "metadata": {},
   "outputs": [],
   "source": [
    "iced_products = ['apple-crisp-frappuccino-blended-beverage',\n",
    "                 'iced-reserve-bar-caffè-americano',\n",
    "                 'iced-espresso-classics---skinny-vanilla-latte',\n",
    "                'toasted-white-chocolate-mocha-frappuccino']"
   ]
  },
  {
   "cell_type": "code",
   "execution_count": 26,
   "id": "6c225fa7",
   "metadata": {},
   "outputs": [],
   "source": [
    "hour1 = 8\n",
    "hour2 = 15\n",
    "hour3 = 18\n",
    "\n",
    "store1 = 2085 # I think this is the reserve on pike edit: don't use this, no weather data\n",
    "store2 = 53313 # this should be the reserve in chicago on michigan ave\n",
    "store3 = 9447 # this is the one on 15th around interbay/magnolia bridge which actually has a drivethru\n",
    "store4 = 9810 # some drivethru store in arkanas"
   ]
  },
  {
   "cell_type": "code",
   "execution_count": 27,
   "id": "40a4f700",
   "metadata": {},
   "outputs": [],
   "source": [
    "hg = headlines.HeadlineGenerator(store_df2, product_df2, weather_df)"
   ]
  },
  {
   "cell_type": "code",
   "execution_count": 28,
   "id": "0c960b0f",
   "metadata": {},
   "outputs": [
    {
     "data": {
      "text/plain": [
       "['Sunny in Chicago',\n",
       " 'Morning in Chicago',\n",
       " 'Sunny Morning in Chicago',\n",
       " 'Morning Light Pick Me Up',\n",
       " 'Sunny Light Pick Me Up',\n",
       " 'Morning Treat',\n",
       " 'Sunny Treat',\n",
       " 'Morning Boost',\n",
       " 'Sunny Boost',\n",
       " 'Morning Flavor',\n",
       " 'Sunny Flavor']"
      ]
     },
     "execution_count": 28,
     "metadata": {},
     "output_type": "execute_result"
    }
   ],
   "source": [
    "hg.get_headlines(store2, hour1, products_given)"
   ]
  },
  {
   "cell_type": "code",
   "execution_count": 29,
   "id": "6f55b9f9",
   "metadata": {},
   "outputs": [],
   "source": [
    "interbay_headlines = hg.get_headlines(store3, hour3, products_given)"
   ]
  },
  {
   "cell_type": "code",
   "execution_count": 30,
   "id": "ad72c7ad",
   "metadata": {},
   "outputs": [
    {
     "data": {
      "text/plain": [
       "['Sunny in Seattle',\n",
       " 'Evening in Seattle',\n",
       " 'Sunny Evening in Seattle',\n",
       " 'Evening Light Pick Me Up',\n",
       " 'Sunny Light Pick Me Up',\n",
       " 'Evening Treat',\n",
       " 'Sunny Treat',\n",
       " 'Evening Boost',\n",
       " 'Sunny Boost',\n",
       " 'Evening Flavor',\n",
       " 'Sunny Flavor']"
      ]
     },
     "execution_count": 30,
     "metadata": {},
     "output_type": "execute_result"
    }
   ],
   "source": [
    "interbay_headlines"
   ]
  },
  {
   "cell_type": "code",
   "execution_count": 31,
   "id": "97153445",
   "metadata": {},
   "outputs": [],
   "source": [
    "hot_weather_headlines = hg.get_headlines(store4, hour1, iced_products)"
   ]
  },
  {
   "cell_type": "code",
   "execution_count": 32,
   "id": "827e7f10",
   "metadata": {},
   "outputs": [
    {
     "data": {
      "text/plain": [
       "['Sunny in Conway',\n",
       " 'Morning in Conway',\n",
       " 'Sunny Morning in Conway',\n",
       " 'Morning Light Pick Me Up',\n",
       " 'Sunny Light Pick Me Up',\n",
       " 'Morning Treat',\n",
       " 'Sunny Treat',\n",
       " 'Morning Boost',\n",
       " 'Sunny Boost',\n",
       " 'Morning Flavor',\n",
       " 'Sunny Flavor']"
      ]
     },
     "execution_count": 32,
     "metadata": {},
     "output_type": "execute_result"
    }
   ],
   "source": [
    "hot_weather_headlines"
   ]
  },
  {
   "cell_type": "markdown",
   "id": "46daeaeb",
   "metadata": {},
   "source": [
    "## Simulation"
   ]
  },
  {
   "cell_type": "code",
   "execution_count": 33,
   "id": "a1945cca",
   "metadata": {},
   "outputs": [],
   "source": [
    "# parameters: headlines, num_turns, lbound=0.01, ubound=0.15\n",
    "\n",
    "mab = mab_filter.MultiArmBandits(interbay_headlines, num_turns=1000)"
   ]
  },
  {
   "cell_type": "code",
   "execution_count": 34,
   "id": "137dc78a",
   "metadata": {},
   "outputs": [
    {
     "name": "stdout",
     "output_type": "stream",
     "text": [
      "Headline 0 was chosen 95.0 times\n",
      "Headline 1 was chosen 63.0 times\n",
      "Headline 2 was chosen 49.0 times\n",
      "Headline 3 was chosen 46.0 times\n",
      "Headline 4 was chosen 238.0 times\n",
      "Headline 5 was chosen 53.0 times\n",
      "Headline 6 was chosen 98.0 times\n",
      "Headline 7 was chosen 58.0 times\n",
      "Headline 8 was chosen 126.0 times\n",
      "Headline 9 was chosen 82.0 times\n",
      "Headline 10 was chosen 92.0 times\n",
      "\n",
      "Overall conclusion: best headline is 4\n",
      "\n",
      "Sunny Light Pick Me Up\n"
     ]
    }
   ],
   "source": [
    "mab.simulation(verbose=True)"
   ]
  },
  {
   "cell_type": "code",
   "execution_count": 35,
   "id": "ad28f84d",
   "metadata": {},
   "outputs": [],
   "source": [
    "mab_iced = mab_filter.MultiArmBandits(hot_weather_headlines, num_turns=1000)"
   ]
  },
  {
   "cell_type": "code",
   "execution_count": 36,
   "id": "773353f2",
   "metadata": {},
   "outputs": [
    {
     "name": "stdout",
     "output_type": "stream",
     "text": [
      "Headline 0 was chosen 28.0 times\n",
      "Headline 1 was chosen 29.0 times\n",
      "Headline 2 was chosen 73.0 times\n",
      "Headline 3 was chosen 40.0 times\n",
      "Headline 4 was chosen 65.0 times\n",
      "Headline 5 was chosen 98.0 times\n",
      "Headline 6 was chosen 28.0 times\n",
      "Headline 7 was chosen 42.0 times\n",
      "Headline 8 was chosen 45.0 times\n",
      "Headline 9 was chosen 522.0 times\n",
      "Headline 10 was chosen 30.0 times\n",
      "\n",
      "Overall conclusion: best headline is 9\n",
      "\n",
      "Morning Flavor\n"
     ]
    }
   ],
   "source": [
    "mab_iced.simulation(verbose=True)"
   ]
  }
 ],
 "metadata": {
  "kernelspec": {
   "display_name": "Python 3 (ipykernel)",
   "language": "python",
   "name": "python3"
  },
  "language_info": {
   "codemirror_mode": {
    "name": "ipython",
    "version": 3
   },
   "file_extension": ".py",
   "mimetype": "text/x-python",
   "name": "python",
   "nbconvert_exporter": "python",
   "pygments_lexer": "ipython3",
   "version": "3.9.7"
  }
 },
 "nbformat": 4,
 "nbformat_minor": 5
}
